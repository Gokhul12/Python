{
 "cells": [
  {
   "cell_type": "code",
   "execution_count": 2,
   "id": "1f20c233",
   "metadata": {},
   "outputs": [],
   "source": [
    "import numpy as np"
   ]
  },
  {
   "cell_type": "code",
   "execution_count": 5,
   "id": "c09c0715",
   "metadata": {},
   "outputs": [
    {
     "name": "stdout",
     "output_type": "stream",
     "text": [
      "[ 5 14 43 54 20]\n"
     ]
    }
   ],
   "source": [
    "al=[5,14,43,54,20]\n",
    "a=np.array(al)\n",
    "print(a)"
   ]
  },
  {
   "cell_type": "code",
   "execution_count": 7,
   "id": "3d834f46",
   "metadata": {},
   "outputs": [
    {
     "name": "stdout",
     "output_type": "stream",
     "text": [
      "136\n"
     ]
    }
   ],
   "source": [
    "print(np.sum(al))"
   ]
  },
  {
   "cell_type": "code",
   "execution_count": 8,
   "id": "df2da0ba",
   "metadata": {},
   "outputs": [
    {
     "name": "stdout",
     "output_type": "stream",
     "text": [
      "27.2\n"
     ]
    }
   ],
   "source": [
    "print(np.mean(al))"
   ]
  },
  {
   "cell_type": "code",
   "execution_count": 10,
   "id": "5415277b",
   "metadata": {},
   "outputs": [
    {
     "name": "stdout",
     "output_type": "stream",
     "text": [
      "20.0\n"
     ]
    }
   ],
   "source": [
    "print(np.median(al))"
   ]
  },
  {
   "cell_type": "code",
   "execution_count": 11,
   "id": "e2869f4b",
   "metadata": {},
   "outputs": [
    {
     "name": "stdout",
     "output_type": "stream",
     "text": [
      "18.36736235827017\n"
     ]
    }
   ],
   "source": [
    "print(np.std(al))"
   ]
  },
  {
   "cell_type": "code",
   "execution_count": 12,
   "id": "8685d48b",
   "metadata": {},
   "outputs": [
    {
     "name": "stdout",
     "output_type": "stream",
     "text": [
      "[ 5 14 20 43 54]\n"
     ]
    }
   ],
   "source": [
    "print(np.sort(al))"
   ]
  },
  {
   "cell_type": "code",
   "execution_count": 13,
   "id": "193a3129",
   "metadata": {},
   "outputs": [
    {
     "data": {
      "text/plain": [
       "0.23448502887471845"
      ]
     },
     "execution_count": 13,
     "metadata": {},
     "output_type": "execute_result"
    }
   ],
   "source": [
    "np.random.random()"
   ]
  },
  {
   "cell_type": "code",
   "execution_count": 14,
   "id": "a98f03ca",
   "metadata": {},
   "outputs": [
    {
     "data": {
      "text/plain": [
       "array([[0.0350476 , 0.91897764, 0.98527217],\n",
       "       [0.01386398, 0.60758718, 0.69975157]])"
      ]
     },
     "execution_count": 14,
     "metadata": {},
     "output_type": "execute_result"
    }
   ],
   "source": [
    "np.random.rand(2,3)"
   ]
  },
  {
   "cell_type": "code",
   "execution_count": 15,
   "id": "63428f33",
   "metadata": {},
   "outputs": [
    {
     "data": {
      "text/plain": [
       "array([[0.89923786, 0.05382527, 0.23595062],\n",
       "       [0.96601081, 0.14244116, 0.58107371]])"
      ]
     },
     "execution_count": 15,
     "metadata": {},
     "output_type": "execute_result"
    }
   ],
   "source": [
    "np.random.rand(2,3)"
   ]
  },
  {
   "cell_type": "code",
   "execution_count": 16,
   "id": "f4346a91",
   "metadata": {},
   "outputs": [
    {
     "data": {
      "text/plain": [
       "array([[0.88900303, 0.77348115, 0.49144814],\n",
       "       [0.12026483, 0.15555181, 0.33279306]])"
      ]
     },
     "execution_count": 16,
     "metadata": {},
     "output_type": "execute_result"
    }
   ],
   "source": [
    "np.random.rand(2,3)\n"
   ]
  },
  {
   "cell_type": "code",
   "execution_count": 17,
   "id": "a5a161b8",
   "metadata": {},
   "outputs": [
    {
     "data": {
      "text/plain": [
       "array([[0.6946032 , 0.11291397, 0.2434601 ],\n",
       "       [0.09259052, 0.63170355, 0.78901879]])"
      ]
     },
     "execution_count": 17,
     "metadata": {},
     "output_type": "execute_result"
    }
   ],
   "source": [
    "np.random.rand(2,3)"
   ]
  },
  {
   "cell_type": "code",
   "execution_count": 18,
   "id": "cc25bcdb",
   "metadata": {},
   "outputs": [
    {
     "data": {
      "text/plain": [
       "array([[-1.98396367, -0.42452977, -0.27150456],\n",
       "       [ 1.48533712, -0.54546642,  0.40845737]])"
      ]
     },
     "execution_count": 18,
     "metadata": {},
     "output_type": "execute_result"
    }
   ],
   "source": [
    "np.random.randn(2,3)"
   ]
  },
  {
   "cell_type": "markdown",
   "id": "94054fb9",
   "metadata": {},
   "source": [
    "#### IF you want to know about the code or help about the code then click in the middle of parantheses and click shift+tab"
   ]
  },
  {
   "cell_type": "markdown",
   "id": "d641531a",
   "metadata": {},
   "source": [
    "###### random.random gives single value, random.rand gives value within 0 and 1, random.randn gives value within -1 and +1"
   ]
  },
  {
   "cell_type": "markdown",
   "id": "d2ff7e38",
   "metadata": {},
   "source": [
    "###### random.randint gives random integer values\n",
    "###### syntax= random.randint(0,n+1,size)"
   ]
  },
  {
   "cell_type": "code",
   "execution_count": 19,
   "id": "bc37766f",
   "metadata": {},
   "outputs": [
    {
     "data": {
      "text/plain": [
       "array([  7,   8,  51,   1,  49,  17,  52,   8,  85,  50,  32,  96,  49,\n",
       "        17,  62,  49,  57,  71,   8,  60,  44,  12,  96,  28,  82,  71,\n",
       "        18,  98,  46,  89,  29,  78,  41,  85,  69,  61,  80,  76, 100,\n",
       "         9,  54,  93,  73,  87,  65,  84,  65,  57,  74,  12,  23,  55,\n",
       "         9,  19,  67,  28,  22,  86,  34,  49,  34,  59,  51,  85,   6,\n",
       "        45,  46,  56,  56,  56,  91,  68,  28,  68,  30,  60,  83,  46,\n",
       "        16,  59,  96,   2,  74,   4,  22,  25,  63,  28,  24,  19,  43,\n",
       "        20,  22,  66,  48,  97,  97,  75,  53,  46])"
      ]
     },
     "execution_count": 19,
     "metadata": {},
     "output_type": "execute_result"
    }
   ],
   "source": [
    "np.random.randint(0,101,100)"
   ]
  },
  {
   "cell_type": "code",
   "execution_count": 20,
   "id": "56654b84",
   "metadata": {},
   "outputs": [
    {
     "ename": "TypeError",
     "evalue": "random() takes at most 1 positional argument (2 given)",
     "output_type": "error",
     "traceback": [
      "\u001b[1;31m---------------------------------------------------------------------------\u001b[0m",
      "\u001b[1;31mTypeError\u001b[0m                                 Traceback (most recent call last)",
      "Cell \u001b[1;32mIn[20], line 1\u001b[0m\n\u001b[1;32m----> 1\u001b[0m \u001b[43mnp\u001b[49m\u001b[38;5;241;43m.\u001b[39;49m\u001b[43mrandom\u001b[49m\u001b[38;5;241;43m.\u001b[39;49m\u001b[43mrandom\u001b[49m\u001b[43m(\u001b[49m\u001b[38;5;241;43m2\u001b[39;49m\u001b[43m,\u001b[49m\u001b[38;5;241;43m3\u001b[39;49m\u001b[43m)\u001b[49m\n",
      "File \u001b[1;32mmtrand.pyx:427\u001b[0m, in \u001b[0;36mnumpy.random.mtrand.RandomState.random\u001b[1;34m()\u001b[0m\n",
      "\u001b[1;31mTypeError\u001b[0m: random() takes at most 1 positional argument (2 given)"
     ]
    }
   ],
   "source": [
    "np.random.random(2,3)"
   ]
  },
  {
   "cell_type": "code",
   "execution_count": 21,
   "id": "6b8de87f",
   "metadata": {},
   "outputs": [
    {
     "data": {
      "text/plain": [
       "array([0.79911937, 0.71432688, 0.87382481])"
      ]
     },
     "execution_count": 21,
     "metadata": {},
     "output_type": "execute_result"
    }
   ],
   "source": [
    "np.random.random(size=3)"
   ]
  },
  {
   "cell_type": "code",
   "execution_count": 22,
   "id": "5c0abce2",
   "metadata": {},
   "outputs": [
    {
     "data": {
      "text/plain": [
       "array([[[0.40267062, 0.14582019, 0.76963671, 0.79574454, 0.37674289],\n",
       "        [0.4127508 , 0.63234007, 0.74821467, 0.46430771, 0.39081075],\n",
       "        [0.72588497, 0.33294644, 0.35140413, 0.50624877, 0.20173199]],\n",
       "\n",
       "       [[0.35649997, 0.27346693, 0.78058557, 0.42915068, 0.65069535],\n",
       "        [0.57634781, 0.67338883, 0.2067011 , 0.552745  , 0.04167604],\n",
       "        [0.08848725, 0.15714072, 0.22756786, 0.43074201, 0.82239204]]])"
      ]
     },
     "execution_count": 22,
     "metadata": {},
     "output_type": "execute_result"
    }
   ],
   "source": [
    "np.random.rand(2,3,5)"
   ]
  },
  {
   "cell_type": "code",
   "execution_count": 23,
   "id": "d86ffea4",
   "metadata": {},
   "outputs": [
    {
     "data": {
      "text/plain": [
       "array([0, 1, 2, 3, 4, 5, 6, 7, 8, 9])"
      ]
     },
     "execution_count": 23,
     "metadata": {},
     "output_type": "execute_result"
    }
   ],
   "source": [
    "np.arange(0,10)"
   ]
  },
  {
   "cell_type": "code",
   "execution_count": 24,
   "id": "25b3d947",
   "metadata": {},
   "outputs": [
    {
     "data": {
      "text/plain": [
       "array([0, 1, 2, 3, 4, 5, 6, 7, 8, 9])"
      ]
     },
     "execution_count": 24,
     "metadata": {},
     "output_type": "execute_result"
    }
   ],
   "source": [
    "np.arange(10)"
   ]
  },
  {
   "cell_type": "markdown",
   "id": "ff4f89bc",
   "metadata": {},
   "source": [
    "###### default starting value will be 0"
   ]
  },
  {
   "cell_type": "code",
   "execution_count": 25,
   "id": "c48d10f2",
   "metadata": {},
   "outputs": [
    {
     "data": {
      "text/plain": [
       "array([0, 2, 4, 6, 8])"
      ]
     },
     "execution_count": 25,
     "metadata": {},
     "output_type": "execute_result"
    }
   ],
   "source": [
    "np.arange(0,10,2)"
   ]
  },
  {
   "cell_type": "markdown",
   "id": "11cfc0a5",
   "metadata": {},
   "source": [
    "###### syntax= np.arange(start, stop, step, datatype)\n",
    "###### datatype is optional"
   ]
  },
  {
   "cell_type": "code",
   "execution_count": 27,
   "id": "eacf25f4",
   "metadata": {},
   "outputs": [
    {
     "data": {
      "text/plain": [
       "array([ 0,  2,  4,  6,  8, 10, 12, 14, 16, 18])"
      ]
     },
     "execution_count": 27,
     "metadata": {},
     "output_type": "execute_result"
    }
   ],
   "source": [
    "arr=np.arange(0,20,2,int)\n",
    "arr"
   ]
  },
  {
   "cell_type": "code",
   "execution_count": 28,
   "id": "43fc8fe2",
   "metadata": {},
   "outputs": [
    {
     "data": {
      "text/plain": [
       "array([ 0,  5, 10, 15, 20, 25, 30, 35, 40, 45, 50])"
      ]
     },
     "execution_count": 28,
     "metadata": {},
     "output_type": "execute_result"
    }
   ],
   "source": [
    "np.arange(0,51,5,int)"
   ]
  },
  {
   "cell_type": "code",
   "execution_count": 29,
   "id": "08293af0",
   "metadata": {},
   "outputs": [
    {
     "data": {
      "text/plain": [
       "array([100,  99,  98,  97,  96,  95,  94,  93,  92,  91,  90,  89,  88,\n",
       "        87,  86,  85,  84,  83,  82,  81,  80,  79,  78,  77,  76,  75,\n",
       "        74,  73,  72,  71,  70,  69,  68,  67,  66,  65,  64,  63,  62,\n",
       "        61,  60,  59,  58,  57,  56,  55,  54,  53,  52,  51,  50,  49,\n",
       "        48,  47,  46,  45,  44,  43,  42,  41,  40,  39,  38,  37,  36,\n",
       "        35,  34,  33,  32,  31,  30,  29,  28,  27,  26,  25,  24,  23,\n",
       "        22,  21,  20,  19,  18,  17,  16,  15,  14,  13,  12,  11,  10,\n",
       "         9,   8,   7,   6,   5,   4,   3,   2,   1])"
      ]
     },
     "execution_count": 29,
     "metadata": {},
     "output_type": "execute_result"
    }
   ],
   "source": [
    "np.arange(100,0,-1)"
   ]
  },
  {
   "cell_type": "code",
   "execution_count": 30,
   "id": "5f64e222",
   "metadata": {},
   "outputs": [
    {
     "data": {
      "text/plain": [
       "array([0.  , 0.25, 0.5 , 0.75, 1.  ])"
      ]
     },
     "execution_count": 30,
     "metadata": {},
     "output_type": "execute_result"
    }
   ],
   "source": [
    "np.linspace(0,1,5)"
   ]
  },
  {
   "cell_type": "code",
   "execution_count": 31,
   "id": "bfff6e2d",
   "metadata": {},
   "outputs": [
    {
     "data": {
      "text/plain": [
       "array([ 0.,  5., 10.])"
      ]
     },
     "execution_count": 31,
     "metadata": {},
     "output_type": "execute_result"
    }
   ],
   "source": [
    "np.linspace(0,10,3)"
   ]
  },
  {
   "cell_type": "code",
   "execution_count": 32,
   "id": "28efb700",
   "metadata": {},
   "outputs": [
    {
     "data": {
      "text/plain": [
       "array([ 0. ,  2.5,  5. ,  7.5, 10. ])"
      ]
     },
     "execution_count": 32,
     "metadata": {},
     "output_type": "execute_result"
    }
   ],
   "source": [
    "np.linspace(0,10,5)"
   ]
  },
  {
   "cell_type": "code",
   "execution_count": 38,
   "id": "d1bf2d43",
   "metadata": {},
   "outputs": [
    {
     "data": {
      "text/plain": [
       "array([0, 0, 0, 0, 0, 0, 0, 0, 0, 0])"
      ]
     },
     "execution_count": 38,
     "metadata": {},
     "output_type": "execute_result"
    }
   ],
   "source": [
    "np.zeros(10,int)"
   ]
  },
  {
   "cell_type": "code",
   "execution_count": 42,
   "id": "427eb376",
   "metadata": {},
   "outputs": [
    {
     "data": {
      "text/plain": [
       "array([1, 1, 1, 1, 1, 1, 1, 1, 1, 1, 1, 1, 1, 1, 1, 1, 1, 1, 1, 1, 1, 1,\n",
       "       1, 1, 1, 1, 1, 1, 1, 1, 1, 1, 1, 1, 1, 1, 1, 1, 1, 1, 1, 1, 1, 1,\n",
       "       1, 1, 1, 1, 1, 1, 1, 1, 1, 1, 1, 1, 1, 1, 1, 1, 1, 1, 1, 1, 1, 1,\n",
       "       1, 1, 1, 1, 1, 1, 1, 1, 1, 1, 1, 1, 1, 1, 1, 1, 1, 1, 1, 1, 1, 1,\n",
       "       1, 1, 1, 1, 1, 1, 1, 1, 1, 1, 1, 1])"
      ]
     },
     "execution_count": 42,
     "metadata": {},
     "output_type": "execute_result"
    }
   ],
   "source": [
    "np.ones(100,int)"
   ]
  },
  {
   "cell_type": "code",
   "execution_count": 52,
   "id": "939e4ebe",
   "metadata": {},
   "outputs": [
    {
     "name": "stdout",
     "output_type": "stream",
     "text": [
      "[[        0         1         0]\n",
      " [  5570652      1192         0]\n",
      " [      768       519 923009264]]\n"
     ]
    }
   ],
   "source": [
    "m=np.empty((3,3),dtype=int)\n",
    "print(m)"
   ]
  },
  {
   "cell_type": "markdown",
   "id": "160a7694",
   "metadata": {},
   "source": [
    "###### by using empty we can fill values for 0 to infinity"
   ]
  },
  {
   "cell_type": "code",
   "execution_count": 54,
   "id": "69997240",
   "metadata": {},
   "outputs": [
    {
     "name": "stdout",
     "output_type": "stream",
     "text": [
      "[[10 10 10]\n",
      " [10 10 10]\n",
      " [10 10 10]]\n"
     ]
    }
   ],
   "source": [
    "n=np.full((3,3),fill_value=10)\n",
    "print(n)"
   ]
  },
  {
   "cell_type": "markdown",
   "id": "71dfb4e0",
   "metadata": {},
   "source": [
    "###### by using full we can fill the given value to all the places in a matrix and the value has to be given in fill_value"
   ]
  },
  {
   "cell_type": "code",
   "execution_count": 56,
   "id": "a714c102",
   "metadata": {},
   "outputs": [
    {
     "data": {
      "text/plain": [
       "array([[1., 0., 0., 0., 0.],\n",
       "       [0., 1., 0., 0., 0.],\n",
       "       [0., 0., 1., 0., 0.],\n",
       "       [0., 0., 0., 1., 0.],\n",
       "       [0., 0., 0., 0., 1.]])"
      ]
     },
     "execution_count": 56,
     "metadata": {},
     "output_type": "execute_result"
    }
   ],
   "source": [
    "np.identity(5)"
   ]
  },
  {
   "cell_type": "markdown",
   "id": "8904492c",
   "metadata": {},
   "source": [
    "###### by using identity we can create a identity matrix"
   ]
  },
  {
   "cell_type": "code",
   "execution_count": 58,
   "id": "4dd574c8",
   "metadata": {},
   "outputs": [
    {
     "data": {
      "text/plain": [
       "array([[0., 1., 0., 0.],\n",
       "       [0., 0., 1., 0.],\n",
       "       [0., 0., 0., 1.]])"
      ]
     },
     "execution_count": 58,
     "metadata": {},
     "output_type": "execute_result"
    }
   ],
   "source": [
    "np.eye(N=3,M=4,k=1)"
   ]
  },
  {
   "cell_type": "code",
   "execution_count": 60,
   "id": "7e11419f",
   "metadata": {},
   "outputs": [
    {
     "data": {
      "text/plain": [
       "array([[0., 0., 1., 0., 0., 0.],\n",
       "       [0., 0., 0., 1., 0., 0.],\n",
       "       [0., 0., 0., 0., 1., 0.],\n",
       "       [0., 0., 0., 0., 0., 1.],\n",
       "       [0., 0., 0., 0., 0., 0.]])"
      ]
     },
     "execution_count": 60,
     "metadata": {},
     "output_type": "execute_result"
    }
   ],
   "source": [
    "np.eye(N=5,M=6,k=2)"
   ]
  },
  {
   "cell_type": "markdown",
   "id": "a0ee2164",
   "metadata": {},
   "source": [
    "###### here N is no. of rows, M is no. of columns, k is to define main diagonal"
   ]
  },
  {
   "cell_type": "code",
   "execution_count": 63,
   "id": "077c3fb4",
   "metadata": {},
   "outputs": [
    {
     "data": {
      "text/plain": [
       "array([ 1,  2,  3,  4,  5,  6,  7,  8,  9, 10, 11, 12, 13, 14, 15, 16, 17,\n",
       "       18, 19, 20])"
      ]
     },
     "execution_count": 63,
     "metadata": {},
     "output_type": "execute_result"
    }
   ],
   "source": [
    "a=np.arange(1,21)\n",
    "a\n"
   ]
  },
  {
   "cell_type": "code",
   "execution_count": 64,
   "id": "9859098c",
   "metadata": {},
   "outputs": [
    {
     "data": {
      "text/plain": [
       "array([[ 1,  2,  3,  4,  5],\n",
       "       [ 6,  7,  8,  9, 10],\n",
       "       [11, 12, 13, 14, 15],\n",
       "       [16, 17, 18, 19, 20]])"
      ]
     },
     "execution_count": 64,
     "metadata": {},
     "output_type": "execute_result"
    }
   ],
   "source": [
    "r=a.reshape(4,5)\n",
    "r"
   ]
  },
  {
   "cell_type": "code",
   "execution_count": 65,
   "id": "2d7dccb2",
   "metadata": {},
   "outputs": [
    {
     "data": {
      "text/plain": [
       "array([[ 1,  2,  3,  4,  5,  6,  7,  8,  9, 10],\n",
       "       [11, 12, 13, 14, 15, 16, 17, 18, 19, 20]])"
      ]
     },
     "execution_count": 65,
     "metadata": {},
     "output_type": "execute_result"
    }
   ],
   "source": [
    "k=a.reshape(2,10)\n",
    "k\n"
   ]
  },
  {
   "cell_type": "code",
   "execution_count": 69,
   "id": "31f3fe19",
   "metadata": {},
   "outputs": [
    {
     "ename": "ValueError",
     "evalue": "cannot reshape array of size 20 into shape (3,4)",
     "output_type": "error",
     "traceback": [
      "\u001b[1;31m---------------------------------------------------------------------------\u001b[0m",
      "\u001b[1;31mValueError\u001b[0m                                Traceback (most recent call last)",
      "Cell \u001b[1;32mIn[69], line 1\u001b[0m\n\u001b[1;32m----> 1\u001b[0m \u001b[43ma\u001b[49m\u001b[38;5;241;43m.\u001b[39;49m\u001b[43mreshape\u001b[49m\u001b[43m(\u001b[49m\u001b[38;5;241;43m3\u001b[39;49m\u001b[43m,\u001b[49m\u001b[38;5;241;43m4\u001b[39;49m\u001b[43m)\u001b[49m\n",
      "\u001b[1;31mValueError\u001b[0m: cannot reshape array of size 20 into shape (3,4)"
     ]
    }
   ],
   "source": [
    "a.reshape(3,4)"
   ]
  },
  {
   "cell_type": "code",
   "execution_count": 71,
   "id": "ec062c57",
   "metadata": {},
   "outputs": [
    {
     "data": {
      "text/plain": [
       "array([ 0,  1,  2,  3,  4,  5,  6,  7,  8,  9, 10])"
      ]
     },
     "execution_count": 71,
     "metadata": {},
     "output_type": "execute_result"
    }
   ],
   "source": [
    "sample_array=np.arange(0,11)\n",
    "sample_array"
   ]
  },
  {
   "cell_type": "code",
   "execution_count": 72,
   "id": "87f4ecd0",
   "metadata": {},
   "outputs": [
    {
     "data": {
      "text/plain": [
       "0"
      ]
     },
     "execution_count": 72,
     "metadata": {},
     "output_type": "execute_result"
    }
   ],
   "source": [
    "sample_array[0]"
   ]
  },
  {
   "cell_type": "code",
   "execution_count": 73,
   "id": "a607fde4",
   "metadata": {},
   "outputs": [
    {
     "data": {
      "text/plain": [
       "6"
      ]
     },
     "execution_count": 73,
     "metadata": {},
     "output_type": "execute_result"
    }
   ],
   "source": [
    "sample_array[6]"
   ]
  },
  {
   "cell_type": "code",
   "execution_count": 74,
   "id": "ee7255a8",
   "metadata": {},
   "outputs": [
    {
     "data": {
      "text/plain": [
       "array([ 0,  1,  2,  3,  4,  5,  6, 11,  8,  9, 10])"
      ]
     },
     "execution_count": 74,
     "metadata": {},
     "output_type": "execute_result"
    }
   ],
   "source": [
    "sample_array[7]=11\n",
    "sample_array"
   ]
  },
  {
   "cell_type": "code",
   "execution_count": 75,
   "id": "beab3130",
   "metadata": {},
   "outputs": [
    {
     "data": {
      "text/plain": [
       "array([ 0,  1,  2,  3,  4,  5,  6, 11])"
      ]
     },
     "execution_count": 75,
     "metadata": {},
     "output_type": "execute_result"
    }
   ],
   "source": [
    "sample_array[0:8]"
   ]
  },
  {
   "cell_type": "code",
   "execution_count": 76,
   "id": "a02f541b",
   "metadata": {},
   "outputs": [
    {
     "data": {
      "text/plain": [
       "array([0, 2, 4])"
      ]
     },
     "execution_count": 76,
     "metadata": {},
     "output_type": "execute_result"
    }
   ],
   "source": [
    "sample_array[0:6:2]"
   ]
  },
  {
   "cell_type": "code",
   "execution_count": 77,
   "id": "79317d28",
   "metadata": {},
   "outputs": [
    {
     "data": {
      "text/plain": [
       "array([8, 6, 4, 2])"
      ]
     },
     "execution_count": 77,
     "metadata": {},
     "output_type": "execute_result"
    }
   ],
   "source": [
    "sample_array[8:0:-2]"
   ]
  },
  {
   "cell_type": "code",
   "execution_count": 78,
   "id": "4b8cd353",
   "metadata": {},
   "outputs": [
    {
     "data": {
      "text/plain": [
       "array([ 8, 11,  6,  5,  4,  3,  2,  1])"
      ]
     },
     "execution_count": 78,
     "metadata": {},
     "output_type": "execute_result"
    }
   ],
   "source": [
    "sample_array[8:0:-1]"
   ]
  },
  {
   "cell_type": "code",
   "execution_count": 79,
   "id": "1c097b47",
   "metadata": {},
   "outputs": [
    {
     "data": {
      "text/plain": [
       "array([ 0,  1,  2,  3,  4,  5,  6,  7,  8,  9, 10])"
      ]
     },
     "execution_count": 79,
     "metadata": {},
     "output_type": "execute_result"
    }
   ],
   "source": [
    "sample_array[7]=7\n",
    "sample_array"
   ]
  },
  {
   "cell_type": "markdown",
   "id": "76267262",
   "metadata": {},
   "source": [
    "###### in array indexing starting value is 0 by default"
   ]
  },
  {
   "cell_type": "code",
   "execution_count": 80,
   "id": "f18ff35a",
   "metadata": {},
   "outputs": [
    {
     "data": {
      "text/plain": [
       "array([ 0,  2,  4,  6,  8, 10])"
      ]
     },
     "execution_count": 80,
     "metadata": {},
     "output_type": "execute_result"
    }
   ],
   "source": [
    "sample_array[::2]"
   ]
  },
  {
   "cell_type": "code",
   "execution_count": 81,
   "id": "b19b119f",
   "metadata": {},
   "outputs": [
    {
     "data": {
      "text/plain": [
       "array([10,  9,  8,  7,  6])"
      ]
     },
     "execution_count": 81,
     "metadata": {},
     "output_type": "execute_result"
    }
   ],
   "source": [
    "sample_array[:5:-1]"
   ]
  },
  {
   "cell_type": "markdown",
   "id": "ec60bfeb",
   "metadata": {},
   "source": [
    "###### if we use -1 as step value without mentioning the start value it will automatically start from the ending"
   ]
  },
  {
   "cell_type": "code",
   "execution_count": null,
   "id": "5f61735f",
   "metadata": {},
   "outputs": [],
   "source": []
  }
 ],
 "metadata": {
  "kernelspec": {
   "display_name": "Python 3 (ipykernel)",
   "language": "python",
   "name": "python3"
  },
  "language_info": {
   "codemirror_mode": {
    "name": "ipython",
    "version": 3
   },
   "file_extension": ".py",
   "mimetype": "text/x-python",
   "name": "python",
   "nbconvert_exporter": "python",
   "pygments_lexer": "ipython3",
   "version": "3.10.9"
  }
 },
 "nbformat": 4,
 "nbformat_minor": 5
}
